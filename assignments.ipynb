{
 "cells": [
  {
   "cell_type": "code",
   "execution_count": 57,
   "metadata": {},
   "outputs": [
    {
     "name": "stdout",
     "output_type": "stream",
     "text": [
      "Enter Radius Of Circle : 4\n",
      "The Area of circle is : 50.26548245743669\n"
     ]
    }
   ],
   "source": [
    "#1) Calculating Area Of Circle.\n",
    "import math\n",
    "radius = float(input(\"Enter Radius Of Circle : \"))\n",
    "\n",
    "formula = math.pi*pow(radius,2)\n",
    "\n",
    "Area = formula\n",
    "print (\"The Area of circle is : {}\".format(Area))"
   ]
  },
  {
   "cell_type": "code",
   "execution_count": 58,
   "metadata": {},
   "outputs": [
    {
     "name": "stdout",
     "output_type": "stream",
     "text": [
      "Enter The Number You Want To Check : 4\n",
      "The Number 4.0 Is Positive\n"
     ]
    }
   ],
   "source": [
    "#2) cheching number either positive, negative or zero.\n",
    "number = float(input(\"Enter The Number You Want To Check : \"))\n",
    "no = \"\"\n",
    "if number < 0:\n",
    "    no = \"The Number {} Is Negative\".format(number)\n",
    "\n",
    "elif number > 0:\n",
    "    no = \"The Number {} Is Positive\".format(number)\n",
    "    \n",
    "elif number == 0:\n",
    "    no = \"The Number {} Is Zero\".format(number)\n",
    "\n",
    "print(no)"
   ]
  },
  {
   "cell_type": "code",
   "execution_count": 3,
   "metadata": {},
   "outputs": [
    {
     "name": "stdout",
     "output_type": "stream",
     "text": [
      "Enter The Numerator :4\n",
      "Enter The Denominarator :5\n",
      "The Numerator 4 is not Divisible by 5\n"
     ]
    }
   ],
   "source": [
    "#3) Checking Divisilibity Of Two Number\n",
    "nume = int(input(\"Enter The Numerator :\"))\n",
    "deno = int(input(\"Enter The Denominarator :\"))\n",
    "if (nume % deno == 0):\n",
    "    print (\"The Numerator {} is Divisible by {}\".format(nume,deno))\n",
    "else:\n",
    "    print (\"The Numerator {} is not Divisible by {}\".format(nume,deno))"
   ]
  },
  {
   "cell_type": "code",
   "execution_count": 16,
   "metadata": {},
   "outputs": [
    {
     "name": "stdout",
     "output_type": "stream",
     "text": [
      "Enter 1st Date (dd,mm,yyyy) :09,09,09\n",
      "Enter 2nd Date (dd,mm,yyyy) :08,08,08\n"
     ]
    },
    {
     "ename": "TypeError",
     "evalue": "unsupported operand type(s) for -: 'str' and 'str'",
     "output_type": "error",
     "traceback": [
      "\u001b[1;31m---------------------------------------------------------------------------\u001b[0m",
      "\u001b[1;31mTypeError\u001b[0m                                 Traceback (most recent call last)",
      "\u001b[1;32m<ipython-input-16-feafadebbac6>\u001b[0m in \u001b[0;36m<module>\u001b[1;34m\u001b[0m\n\u001b[0;32m      3\u001b[0m \u001b[0mdate1\u001b[0m \u001b[1;33m=\u001b[0m \u001b[1;33m(\u001b[0m\u001b[0minput\u001b[0m\u001b[1;33m(\u001b[0m\u001b[1;34m\"Enter 1st Date (dd,mm,yyyy) :\"\u001b[0m\u001b[1;33m)\u001b[0m\u001b[1;33m)\u001b[0m\u001b[1;33m\u001b[0m\u001b[1;33m\u001b[0m\u001b[0m\n\u001b[0;32m      4\u001b[0m \u001b[0mdate2\u001b[0m \u001b[1;33m=\u001b[0m \u001b[1;33m(\u001b[0m\u001b[0minput\u001b[0m\u001b[1;33m(\u001b[0m\u001b[1;34m\"Enter 2nd Date (dd,mm,yyyy) :\"\u001b[0m\u001b[1;33m)\u001b[0m\u001b[1;33m)\u001b[0m\u001b[1;33m\u001b[0m\u001b[1;33m\u001b[0m\u001b[0m\n\u001b[1;32m----> 5\u001b[1;33m \u001b[0mform\u001b[0m \u001b[1;33m=\u001b[0m \u001b[0mdate2\u001b[0m \u001b[1;33m-\u001b[0m \u001b[0mdate1\u001b[0m\u001b[1;33m\u001b[0m\u001b[1;33m\u001b[0m\u001b[0m\n\u001b[0m\u001b[0;32m      6\u001b[0m \u001b[0mprint\u001b[0m\u001b[1;33m(\u001b[0m\u001b[0mdelta\u001b[0m\u001b[1;33m)\u001b[0m\u001b[1;33m\u001b[0m\u001b[1;33m\u001b[0m\u001b[0m\n\u001b[0;32m      7\u001b[0m \u001b[1;33m\u001b[0m\u001b[0m\n",
      "\u001b[1;31mTypeError\u001b[0m: unsupported operand type(s) for -: 'str' and 'str'"
     ]
    }
   ],
   "source": [
    "#4) Calculating Days\n",
    "from datetime import date\n",
    "date1 = (input(\"Enter 1st Date (dd,mm,yyyy) :\"))\n",
    "date2 = (input(\"Enter 2nd Date (dd,mm,yyyy) :\"))\n",
    "form = date2 - date1\n",
    "print(delta)\n",
    "\n",
    "#from datetime import date\n",
    "#f_date = date(2014, 7, 2)\n",
    "#l_date = date(2014, 7, 11)\n",
    "#delta = l_date - f_date\n",
    "#print(delta.days)"
   ]
  },
  {
   "cell_type": "code",
   "execution_count": 5,
   "metadata": {},
   "outputs": [
    {
     "name": "stdout",
     "output_type": "stream",
     "text": [
      "Enter Radius Of A Sphere : 1\n",
      "The Volume Of A Sphere Is : 4.1887902047863905\n"
     ]
    }
   ],
   "source": [
    "#5) Calculating Volume Of A Sphere.\n",
    "import math\n",
    "radius = float(input(\"Enter Radius Of A Sphere : \"))\n",
    "\n",
    "formula = (4/3)*math.pi*pow(radius,3)\n",
    "\n",
    "Volume = formula\n",
    "print (\"The Volume Of A Sphere Is : {}\".format(Volume))"
   ]
  },
  {
   "cell_type": "code",
   "execution_count": 7,
   "metadata": {
    "scrolled": true
   },
   "outputs": [
    {
     "name": "stdout",
     "output_type": "stream",
     "text": [
      "Enter the string : hello\n",
      "How many times you want to copy string : 6\n",
      "hellohellohellohellohellohello\n"
     ]
    }
   ],
   "source": [
    "#6) Copy String n times\n",
    "word = input(\"Enter the string : \")\n",
    "value = int(input(\"How many times you want to copy string : \"))\n",
    "ans = word * value\n",
    "print(ans)"
   ]
  },
  {
   "cell_type": "code",
   "execution_count": 13,
   "metadata": {},
   "outputs": [
    {
     "name": "stdout",
     "output_type": "stream",
     "text": [
      "Enter The Number To Check :3\n",
      "The Number Is Odd.\n"
     ]
    }
   ],
   "source": [
    "#7) Checking If The Number Is Even Or Odd\n",
    "the_number = int(input(\"Enter The Number To Check :\"))\n",
    "if (the_number % 2 == 0):\n",
    "    print(\"The Number Is Even.\")\n",
    "elif (the_number % 2 !=0):\n",
    "    print(\"The Number Is Odd.\")"
   ]
  },
  {
   "cell_type": "code",
   "execution_count": 3,
   "metadata": {},
   "outputs": [
    {
     "name": "stdout",
     "output_type": "stream",
     "text": [
      "Enter Alphabet To Check If It is vowel or not : y\n",
      "The alphabet y is not a vowel.\n"
     ]
    }
   ],
   "source": [
    "#8) Testing The Vowel\n",
    "alph = input(\"Enter Alphabet To Check If It is vowel or not : \")\n",
    "if (alph == \"a\" or alph == \"A\"):\n",
    "    print(\"this is vowel\")\n",
    "elif (alph == \"e\" or alph ==\"E\"):\n",
    "    print(\"this is vowel\")\n",
    "elif (alph == \"i\" or alph == \"I\"):\n",
    "    print(\"this is vowel\")\n",
    "elif (alph == \"o\" or alph == \"O\"):\n",
    "    print(\"this is vowel\")\n",
    "elif (alph == \"u\" or alph == \"U\"):\n",
    "    print(\"this is vowel\")\n",
    "else:\n",
    "    print(\"The alphabet {} is not a vowel.\".format(alph))"
   ]
  },
  {
   "cell_type": "code",
   "execution_count": 2,
   "metadata": {},
   "outputs": [
    {
     "name": "stdout",
     "output_type": "stream",
     "text": [
      "Enter The Magnitude Of Triangle Base : 3\n",
      "Enter The Magnitude Of Triangle Height : 4\n",
      "Area Of Triangle With Height 4.0 and Base 3.0 is 6.0\n"
     ]
    }
   ],
   "source": [
    "#9) Calculating Area Of Triangle\n",
    "base = float(input(\"Enter The Magnitude Of Triangle Base : \"))\n",
    "height = float(input(\"Enter The Magnitude Of Triangle Height : \"))\n",
    "area_of_triangle = (height*base)/2\n",
    "print(\"Area Of Triangle With Height {} and Base {} is {}\".format(height,base,area_of_triangle))"
   ]
  },
  {
   "cell_type": "code",
   "execution_count": 13,
   "metadata": {},
   "outputs": [
    {
     "name": "stdout",
     "output_type": "stream",
     "text": [
      "Enter Principal Amount : 10000\n",
      "Enter Rate Of Interest in % : 0.1\n",
      "Enter Number Of Year For Investment : 5\n",
      "After 5.0 years your principal amount 10000.0 over an interest rate of 0.1% will be 16105.100000000006\n"
     ]
    }
   ],
   "source": [
    "#10) Calculating Interest\n",
    "principal = float(input(\"Enter Principal Amount : \"))\n",
    "r_in = float(input(\"Enter Rate Of Interest in % : \"))\n",
    "year = float(input(\"Enter Number Of Year For Investment : \"))\n",
    "formula = principal*pow(1+r_in/1,year*1)\n",
    "print(\"After {} years your principal amount {} over an interest rate of {}% will be {}\".format(year,principal,r_in,formula))"
   ]
  },
  {
   "cell_type": "code",
   "execution_count": 12,
   "metadata": {},
   "outputs": [
    {
     "name": "stdout",
     "output_type": "stream",
     "text": [
      "Enter Co-ordinate of x1 : 4\n",
      "Enter Co-ordinate of y1 : 0\n",
      "Enter Co-ordinate of x2 : 6\n",
      "Enter Co-ordinate of y2 : 6\n",
      "Distance between points [4, 0] and [6, 6] is 6.324555320336759\n"
     ]
    }
   ],
   "source": [
    "#11) Euclidean Distance\n",
    "import math\n",
    "x1 = int(input(\"Enter Co-ordinate of x1 : \"))\n",
    "y1 = int(input(\"Enter Co-ordinate of y1 : \"))\n",
    "x2 = int(input(\"Enter Co-ordinate of x2 : \"))\n",
    "y2 = int(input(\"Enter Co-ordinate of y2 : \"))\n",
    "p1 = [x1, y1]\n",
    "p2 = [x2, y2]\n",
    "\n",
    "distance = math.sqrt( ((p1[0]-p2[0])**2)+((p1[1]-p2[1])**2) ) #** makes a value power\n",
    "print(\"Distance between points {} and {} is {}\".format(p1,p2,distance))"
   ]
  },
  {
   "cell_type": "code",
   "execution_count": 4,
   "metadata": {},
   "outputs": [
    {
     "name": "stdout",
     "output_type": "stream",
     "text": [
      "Enter Height In Feet : 5\n",
      "There are 152.4 cm in 5.0 ft\n"
     ]
    }
   ],
   "source": [
    "#12) Feet To Centimeter\n",
    "height = float(input(\"Enter Height In Feet : \"))\n",
    "cm = 30.48\n",
    "feet = height * cm\n",
    "print(\"There are {} cm in {} ft\".format(feet,height))"
   ]
  },
  {
   "cell_type": "code",
   "execution_count": 4,
   "metadata": {},
   "outputs": [
    {
     "name": "stdout",
     "output_type": "stream",
     "text": [
      "Enter height in CM : 4.8\n",
      "Enter weight in KG : 53\n",
      "The Body Max Index For Height 4.8 CM & Weight 53.0 KG is 23003.472222222223\n"
     ]
    }
   ],
   "source": [
    "#13) BMI Calculator\n",
    "height = float(input(\"Enter height in CM : \"))\n",
    "weight = float(input(\"Enter weight in KG : \"))\n",
    "formula = weight/pow((height/100),2)\n",
    "print(\"The Body Max Index For Height {} CM & Weight {} KG is {}\".format(height,weight,formula))"
   ]
  },
  {
   "cell_type": "code",
   "execution_count": 12,
   "metadata": {},
   "outputs": [
    {
     "name": "stdout",
     "output_type": "stream",
     "text": [
      "Enter The Value Of N : 5\n",
      "15\n"
     ]
    }
   ],
   "source": [
    "#14) Taking Sum Of Positive Integers\n",
    "no = int(input(\"Enter The Value Of N : \"))\n",
    "d = 0\n",
    "for num in range(1,no+1,1): #starting point, ending point, increament or decreament\n",
    "    d = d + num\n",
    "print (d)\n"
   ]
  },
  {
   "cell_type": "code",
   "execution_count": 14,
   "metadata": {},
   "outputs": [
    {
     "name": "stdout",
     "output_type": "stream",
     "text": [
      "Enter the Number : 1234\n",
      "Sum of 4 Numbers is 10\n"
     ]
    }
   ],
   "source": [
    "#15) Digits Sum Of A Number\n",
    "num = input(\"Enter the Number : \")\n",
    "num1 = len(str(num))\n",
    "total1 = 0\n",
    "for w in range(0,num1):\n",
    "    total1 += int(num[w])\n",
    "print(\"Sum of {} Numbers is {}\".format(num1,total1))"
   ]
  },
  {
   "cell_type": "code",
   "execution_count": 1,
   "metadata": {},
   "outputs": [
    {
     "name": "stdout",
     "output_type": "stream",
     "text": [
      "Enter any Decimal Number : 13\n",
      "Equivalent Binary Number :  0b1101\n"
     ]
    }
   ],
   "source": [
    "#16) Decimal To Binary Convertor\n",
    "#pre-defined function\n",
    "number = int(input(\"Enter any Decimal Number : \"))\n",
    "print(\"Equivalent Binary Number : \", bin(number))"
   ]
  },
  {
   "cell_type": "code",
   "execution_count": 18,
   "metadata": {},
   "outputs": [
    {
     "name": "stdout",
     "output_type": "stream",
     "text": [
      "Enter a Binary number : 1101\n",
      "Decimal Representation of 1101 is 13\n"
     ]
    }
   ],
   "source": [
    "#17) Binary To Decimal Convertor\n",
    "binary = input(\"Enter a Binary number : \")\n",
    "decimal = 0\n",
    "for digit in binary :\n",
    "    decimal = decimal*2 + int(digit)\n",
    "print(\"Decimal Representation of {} is {}\" .format(binary,decimal))"
   ]
  },
  {
   "cell_type": "code",
   "execution_count": 10,
   "metadata": {},
   "outputs": [
    {
     "name": "stdout",
     "output_type": "stream",
     "text": [
      "Enter A Sentence : QuickBrownFoxJumpsovertheDog \n",
      "Vowel : 9 \n",
      "Consonants : 20\n"
     ]
    }
   ],
   "source": [
    "#18) Vowel and Consonants Counter\n",
    "vowel_consonants = input(\"Enter A Sentence : \")\n",
    "vowel = 0\n",
    "consonants = 0\n",
    "for v_t in vowel_consonants :\n",
    "    if (v_t == \"a\" or v_t == \"A\" or v_t == \"e\" or v_t == \"E\" or v_t == \"i\" or v_t == \"I\" or v_t == \"o\" or v_t == \"O\" or \n",
    "        v_t == \"u\" or v_t == \"U\"):\n",
    "        vowel += 1\n",
    "    else:\n",
    "        consonants += 1\n",
    "        \n",
    "print(\"Vowel : {} \\nConsonants : {}\".format(vowel,consonants))"
   ]
  },
  {
   "cell_type": "code",
   "execution_count": 8,
   "metadata": {},
   "outputs": [
    {
     "name": "stdout",
     "output_type": "stream",
     "text": [
      "Enter any Name/Word :majboor uncle\n",
      "majboor uncle is not palindrome.\n"
     ]
    }
   ],
   "source": [
    "#19) Palindrome tester\n",
    "name = input(\"Enter any Name/Word :\")\n",
    "name1 = name.lower()\n",
    "if name1 == name1[::-1]:\n",
    "    print (\"{} is palindrome.\".format(name1))\n",
    "else:\n",
    "    print (\"{} is not palindrome.\".format(name1))"
   ]
  },
  {
   "cell_type": "code",
   "execution_count": 9,
   "metadata": {},
   "outputs": [],
   "source": [
    "#20) Count Alphabets, Numbers and Special Characters \n",
    "#Question no 20\n",
    "import string\n",
    "sen = input(\"Enter any sentence:\")\n",
    "Numbers = 0\n",
    "Alphabets = 0\n",
    "Special_Characters = 0\n",
    "Spaces = 0\n",
    "for i in range(len(sen)):   #ord() used to get alphabets using numbers(index)\n",
    "    if ((ord(sen[i]) >= 97 and ord(sen[i]) <= 122) or (ord(sen[i]) >= 65 and ord(sen[i]) <= 90)):\n",
    "        Alphabets +=1\n",
    "    elif(ord(sen[i]) >= 48 and ord(sen[i]) <= 57):\n",
    "        Numbers += 1\n",
    "    elif (sen[i] == \" \"):\n",
    "        Spaces += 1\n",
    "    else:\n",
    "        Special_Characters += 1\n",
    "        \n",
    "print(\"Numbers = {} \\nAlphabets = {}\"\n",
    "      \" \\nSpecial Characters = {} \\nSpaces = {}\".format(Numbers, Alphabets, Special_Characters, Spaces))"
   ]
  },
  {
   "cell_type": "code",
   "execution_count": 5,
   "metadata": {},
   "outputs": [
    {
     "name": "stdout",
     "output_type": "stream",
     "text": [
      "* \n",
      "* * \n",
      "* * * \n",
      "* * * * \n",
      "* * * * * \n",
      "* * * * \n",
      "* * * \n",
      "* * \n",
      "* \n",
      "\n",
      "\n"
     ]
    }
   ],
   "source": [
    "#21) Write a Python program to construct the following pattern\n",
    "for i in range(1,6):\n",
    "    for j in range(1,i+1):\n",
    "        print(\"*\",end = \" \")\n",
    "    print()\n",
    "\n",
    "for a in range(6,0,-1):\n",
    "    for b in range(1,a-1):\n",
    "        print(\"*\",end = \" \")\n",
    "    print()"
   ]
  },
  {
   "cell_type": "code",
   "execution_count": 3,
   "metadata": {},
   "outputs": [
    {
     "name": "stdout",
     "output_type": "stream",
     "text": [
      "Enter any number to construct pattern :5\n",
      "1 \n",
      "1 2 \n",
      "1 2 3 \n",
      "1 2 3 4 \n",
      "1 2 3 4 5 \n",
      "1 2 3 4 \n",
      "1 2 3 \n",
      "1 2 \n",
      "1 \n"
     ]
    }
   ],
   "source": [
    "#22) Write a Python program to construct the following pattern\n",
    "inp = int(input(\"Enter any number to construct pattern :\"))\n",
    "for x in range(1,inp+1):\n",
    "    for j in range(1,x+1):\n",
    "        print(j,end = \" \")\n",
    "    print()\n",
    "\n",
    "for x in range(inp-1,0,-1):\n",
    "    for b in range(1,x+1):\n",
    "        print(b,end = \" \")\n",
    "    print()"
   ]
  },
  {
   "cell_type": "code",
   "execution_count": 8,
   "metadata": {},
   "outputs": [
    {
     "name": "stdout",
     "output_type": "stream",
     "text": [
      "Enter any number to construct pattern :9\n",
      "1 \n",
      "2 2 \n",
      "3 3 3 \n",
      "4 4 4 4 \n",
      "5 5 5 5 5 \n",
      "6 6 6 6 6 6 \n",
      "7 7 7 7 7 7 7 \n",
      "8 8 8 8 8 8 8 8 \n",
      "9 9 9 9 9 9 9 9 9 \n"
     ]
    }
   ],
   "source": [
    "#23) Write a Python program to construct the following pattern\n",
    "iput = int(input(\"Enter any number to construct pattern :\"))\n",
    "for i in range(1,iput+1):\n",
    "    for j in range (1,i+1):\n",
    "        print(i,end = \" \")\n",
    "    print()"
   ]
  }
 ],
 "metadata": {
  "kernelspec": {
   "display_name": "Python 3",
   "language": "python",
   "name": "python3"
  },
  "language_info": {
   "codemirror_mode": {
    "name": "ipython",
    "version": 3
   },
   "file_extension": ".py",
   "mimetype": "text/x-python",
   "name": "python",
   "nbconvert_exporter": "python",
   "pygments_lexer": "ipython3",
   "version": "3.7.1"
  }
 },
 "nbformat": 4,
 "nbformat_minor": 2
}
