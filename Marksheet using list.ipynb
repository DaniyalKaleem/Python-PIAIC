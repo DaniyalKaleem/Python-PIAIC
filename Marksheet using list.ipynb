{
 "cells": [
  {
   "cell_type": "raw",
   "metadata": {},
   "source": [
    "Mark Sheet Using List"
   ]
  },
  {
   "cell_type": "code",
   "execution_count": 1,
   "metadata": {},
   "outputs": [
    {
     "name": "stdout",
     "output_type": "stream",
     "text": [
      "Name:Daniyal\n",
      "Father Name:KAleem\n",
      "Class:4\n",
      "Section:b\n",
      "Faculty:sci\n",
      "Roll No:32\n"
     ]
    }
   ],
   "source": [
    "#receiving student information\n",
    "\n",
    "Name = input(\"Name:\")\n",
    "Father = input(\"Father Name:\")\n",
    "Class = input(\"Class:\")\n",
    "Section = input(\"Section:\")\n",
    "Faculty = input(\"Faculty:\")\n",
    "Roll_No = input(\"Roll No:\")"
   ]
  },
  {
   "cell_type": "code",
   "execution_count": 2,
   "metadata": {},
   "outputs": [
    {
     "name": "stdout",
     "output_type": "stream",
     "text": [
      "Subjects\n",
      "English:78\n",
      "Mathematics:98\n",
      "Urdu:67\n",
      "Computer:78\n",
      "Islamiat:90\n"
     ]
    }
   ],
   "source": [
    "#taking input of obtained marks\n",
    "\n",
    "Sub = \"Subjects\"\n",
    "print(Sub)\n",
    "\n",
    "E = int(input(\"English:\"))\n",
    "M = int(input(\"Mathematics:\"))\n",
    "U = int(input(\"Urdu:\"))\n",
    "C = int(input(\"Computer:\"))\n",
    "I= int(input(\"Islamiat:\"))\n"
   ]
  },
  {
   "cell_type": "code",
   "execution_count": 4,
   "metadata": {},
   "outputs": [
    {
     "name": "stdout",
     "output_type": "stream",
     "text": [
      "82.19999999999999\n"
     ]
    }
   ],
   "source": [
    "#calculation\n",
    "\n",
    "marks = E+M+U+C+I\n",
    "percentage = (marks/500)*100\n",
    "print(percentage)"
   ]
  },
  {
   "cell_type": "code",
   "execution_count": 1,
   "metadata": {},
   "outputs": [
    {
     "ename": "NameError",
     "evalue": "name 'marks' is not defined",
     "output_type": "error",
     "traceback": [
      "\u001b[1;31m---------------------------------------------------------------------------\u001b[0m",
      "\u001b[1;31mNameError\u001b[0m                                 Traceback (most recent call last)",
      "\u001b[1;32m<ipython-input-1-b4a04eced94a>\u001b[0m in \u001b[0;36m<module>\u001b[1;34m\u001b[0m\n\u001b[1;32m----> 1\u001b[1;33m \u001b[0mprint\u001b[0m \u001b[1;33m(\u001b[0m\u001b[0mmarks\u001b[0m \u001b[1;33m[\u001b[0m\u001b[1;36m3\u001b[0m\u001b[1;33m]\u001b[0m\u001b[1;33m)\u001b[0m\u001b[1;33m\u001b[0m\u001b[1;33m\u001b[0m\u001b[0m\n\u001b[0m",
      "\u001b[1;31mNameError\u001b[0m: name 'marks' is not defined"
     ]
    }
   ],
   "source": [
    "print (marks [3])"
   ]
  },
  {
   "cell_type": "code",
   "execution_count": null,
   "metadata": {},
   "outputs": [],
   "source": []
  }
 ],
 "metadata": {
  "kernelspec": {
   "display_name": "Python 3",
   "language": "python",
   "name": "python3"
  },
  "language_info": {
   "codemirror_mode": {
    "name": "ipython",
    "version": 3
   },
   "file_extension": ".py",
   "mimetype": "text/x-python",
   "name": "python",
   "nbconvert_exporter": "python",
   "pygments_lexer": "ipython3",
   "version": "3.7.1"
  }
 },
 "nbformat": 4,
 "nbformat_minor": 2
}
