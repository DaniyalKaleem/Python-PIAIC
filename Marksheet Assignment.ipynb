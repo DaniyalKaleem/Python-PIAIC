{
 "cells": [
  {
   "cell_type": "code",
   "execution_count": 1,
   "metadata": {},
   "outputs": [
    {
     "name": "stdout",
     "output_type": "stream",
     "text": [
      "Name:Daniyal\n",
      "Father Name:Kaleem\n",
      "Class:12\n",
      "Section:A\n",
      "Faculty:Science\n",
      "Roll No:53\n"
     ]
    }
   ],
   "source": [
    "Name = input(\"Name:\")\n",
    "Father = input(\"Father Name:\")\n",
    "Class = input(\"Class:\")\n",
    "Section = input(\"Section:\")\n",
    "Faculty = input(\"Faculty:\")\n",
    "Roll_No = input(\"Roll No:\")\n"
   ]
  },
  {
   "cell_type": "code",
   "execution_count": 5,
   "metadata": {},
   "outputs": [
    {
     "name": "stdout",
     "output_type": "stream",
     "text": [
      "Subjects\n",
      "English:98\n",
      "Mathematics:88\n",
      "Urdu:78\n",
      "Computer:92\n",
      "Islamiat:83\n"
     ]
    }
   ],
   "source": [
    "Sub = \"Subjects\"\n",
    "print(Sub)\n",
    "\n",
    "E = int(input(\"English:\"))\n",
    "M = int(input(\"Mathematics:\"))\n",
    "U = int(input(\"Urdu:\"))\n",
    "C = int(input(\"Computer:\"))\n",
    "I= int(input(\"Islamiat:\"))\n",
    "\n"
   ]
  },
  {
   "cell_type": "code",
   "execution_count": 6,
   "metadata": {},
   "outputs": [
    {
     "name": "stdout",
     "output_type": "stream",
     "text": [
      "Marks:\n",
      "Total Marks: 500\n",
      "Obtained Marks: 439\n"
     ]
    }
   ],
   "source": [
    "Marks = \"Marks:\"\n",
    "print(Marks)\n",
    "\n",
    "T_M = \"Total Marks:\"\n",
    "\n",
    "Total_Marks = \"500\"\n",
    "print(T_M,Total_Marks)\n",
    "\n",
    "O_M = \"Obtained Marks:\"\n",
    "\n",
    "Obtained_Marks = E + M + U + C + I\n",
    "print(O_M,Obtained_Marks)"
   ]
  },
  {
   "cell_type": "code",
   "execution_count": 7,
   "metadata": {},
   "outputs": [
    {
     "name": "stdout",
     "output_type": "stream",
     "text": [
      "87.8\n"
     ]
    }
   ],
   "source": [
    "Percentage = (E + M + U + C + I)*100 /500\n",
    "print(Percentage)"
   ]
  },
  {
   "cell_type": "code",
   "execution_count": 8,
   "metadata": {},
   "outputs": [
    {
     "name": "stdout",
     "output_type": "stream",
     "text": [
      "A\n"
     ]
    }
   ],
   "source": [
    "Grade = \"\"\n",
    "if Percentage >= 90 and Percentage <= 100:\n",
    "    Grade = \"A+\"\n",
    "    \n",
    "elif Percentage >= 80 and Percentage <= 90:\n",
    "    Grade = \"A\"\n",
    "\n",
    "elif Percentage >= 70 and Percentage <= 80:\n",
    "    Grade = \"B\"\n",
    "    \n",
    "elif Percentage >= 60 and Percentage <= 70:\n",
    "    Grade = \"C\"\n",
    "\n",
    "else:\n",
    "    Grade = \"F\"\n",
    "    \n",
    "print(Grade)"
   ]
  },
  {
   "cell_type": "code",
   "execution_count": 10,
   "metadata": {
    "scrolled": false
   },
   "outputs": [
    {
     "name": "stdout",
     "output_type": "stream",
     "text": [
      "            MARKSHEET\n",
      "Name           :    Daniyal\n",
      "Father Name    :    Kaleem\n",
      "Class          :    12\n",
      "Section        :    A\n",
      "Faculty        :    Science\n",
      "Roll No.       :    53\n",
      "Total Marks    :    500\n",
      "Obtained Marks :    439\n",
      "Grade          :    A\n"
     ]
    }
   ],
   "source": [
    "print(\"            MARKSHEET\")\n",
    "\n",
    "print(\"Name           :   \", Name)\n",
    "print(\"Father Name    :   \", Father)\n",
    "print(\"Class          :   \", Class)\n",
    "print(\"Section        :   \", Section)\n",
    "print(\"Faculty        :   \", Faculty)\n",
    "print(\"Roll No.       :   \", Roll_No)\n",
    "print(\"Total Marks    :   \", Total_Marks)\n",
    "print(\"Obtained Marks :   \", Obtained_Marks)\n",
    "print(\"Grade          :   \", Grade)"
   ]
  },
  {
   "cell_type": "code",
   "execution_count": null,
   "metadata": {},
   "outputs": [],
   "source": []
  }
 ],
 "metadata": {
  "kernelspec": {
   "display_name": "Python 3",
   "language": "python",
   "name": "python3"
  },
  "language_info": {
   "codemirror_mode": {
    "name": "ipython",
    "version": 3
   },
   "file_extension": ".py",
   "mimetype": "text/x-python",
   "name": "python",
   "nbconvert_exporter": "python",
   "pygments_lexer": "ipython3",
   "version": "3.7.1"
  }
 },
 "nbformat": 4,
 "nbformat_minor": 2
}
